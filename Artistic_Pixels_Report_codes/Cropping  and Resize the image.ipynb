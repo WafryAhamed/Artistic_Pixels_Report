{
 "cells": [
  {
   "cell_type": "code",
   "execution_count": null,
   "id": "a4f1c899",
   "metadata": {},
   "outputs": [],
   "source": [
    "import cv2\n",
    "import numpy as np\n",
    "\n",
    "# Load the full image\n",
    "full_image = cv2.imread('photo_20.jpg')\n",
    "\n",
    "\n",
    "new_width = 345.6\n",
    "new_height = 460.8\n",
    "\n",
    "# Resize the image\n",
    "resized_image = cv2.resize(full_image, (int(new_width), int(new_height)))\n",
    "\n",
    "# Check if the image was loaded successfully\n",
    "if resized_image is None:\n",
    "    print(\"Error: Unable to load the image. Please check the file path and format.\")\n",
    "else:\n",
    "    # Calculate the height for the cropped region (half of original height)\n",
    "    crop_height = resized_image.shape[0] // 2\n",
    "    \n",
    "    # Define the coordinates for the cropped region (from top to bottom)\n",
    "    x1 =0\n",
    "    x2 = resized_image.shape[0]\n",
    "    y1 = 10\n",
    "    y2 = crop_height\n",
    "   \n",
    "    # Perform the crop\n",
    "    cropped_image = resized_image[y1:y2, x1:x2]\n",
    "    cv2.imwrite('cropped_image_20.jpg', cropped_image)\n",
    "    cv2.imshow('Cropped Image', cropped_image)\n",
    "    cv2.waitKey(0)\n",
    "    cv2.destroyAllWindows()\n",
    "    "
   ]
  }
 ],
 "metadata": {
  "kernelspec": {
   "display_name": "Python 3 (ipykernel)",
   "language": "python",
   "name": "python3"
  },
  "language_info": {
   "codemirror_mode": {
    "name": "ipython",
    "version": 3
   },
   "file_extension": ".py",
   "mimetype": "text/x-python",
   "name": "python",
   "nbconvert_exporter": "python",
   "pygments_lexer": "ipython3",
   "version": "3.7.16"
  }
 },
 "nbformat": 4,
 "nbformat_minor": 5
}
